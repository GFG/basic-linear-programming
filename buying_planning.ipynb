{
 "cells": [
  {
   "cell_type": "code",
   "execution_count": 1,
   "metadata": {},
   "outputs": [],
   "source": [
    "import time\n",
    "import random\n",
    "from ortools.linear_solver import pywraplp  # Google OR Tools - Linear Solver"
   ]
  },
  {
   "cell_type": "markdown",
   "metadata": {},
   "source": [
    "# Problem Data\n",
    "* Buyer wants to purchase items within the given budget.\n",
    "    - B: maximum budget given to the buyer\n",
    "* There are N distinct SKUs, each of which has its own purchase price (from supplier) and estimated PC1 contribution (per unit).\n",
    "    - f[i]: PC1 per unit for the i-th item\n",
    "    - p[i]: purchase price per unit for the i-th item"
   ]
  },
  {
   "cell_type": "code",
   "execution_count": 2,
   "metadata": {},
   "outputs": [],
   "source": [
    "# SKUs\n",
    "number_of_SKUs = 50\n",
    "SKU = {}\n",
    "for i in range(number_of_SKUs):  # Each item has its purchase price and PC1 contribution\n",
    "    price = random.randint(20, 200)\n",
    "    SKU[i] = {'p': price, 'f': price * random.randint(5, 20) / 100}\n",
    "\n",
    "# Budget\n",
    "B = 300000  # Maximum budget given to the buyer"
   ]
  },
  {
   "cell_type": "markdown",
   "metadata": {},
   "source": [
    "# Variables\n",
    "* Binary decision variable: x[i] ≥ 0 denotes the number of units to purchase\n",
    "* We have N items, so we have N binary decision variables, x[1], x[2], ..., x[N]."
   ]
  },
  {
   "cell_type": "code",
   "execution_count": 3,
   "metadata": {},
   "outputs": [],
   "source": [
    "solver = pywraplp.Solver.CreateSolver('SCIP')  # Solver object to use \"SCIP\" algorithm of the linear solver \n",
    "\n",
    "x = {}  # Binary decision variable, x[i] ≥ 0 which denotes the purshase quantity of the i-th SKU\n",
    "for i in range(number_of_SKUs):\n",
    "    x[i] = solver.IntVar(0, solver.Infinity(), f'x_{i}')"
   ]
  },
  {
   "cell_type": "markdown",
   "metadata": {},
   "source": [
    "# Constraints\n",
    "* The budget is limited. So, we need to make a decision which SKUs & how many to purchase within the budget (B).\n",
    "* Anyway, we can model the constraint like this\n",
    "    - p[1] * x[1] + p[2] * x[2] + ... + p[N] * x[N] <= B\n",
    "    - sum{ p[i] * x[i] | i = 1, 2, ..., N } <= B, equivalently"
   ]
  },
  {
   "cell_type": "code",
   "execution_count": 4,
   "metadata": {},
   "outputs": [
    {
     "data": {
      "text/plain": [
       "<ortools.linear_solver.pywraplp.Constraint; proxy of <Swig Object of type 'operations_research::MPConstraint *' at 0x7f23d8223960> >"
      ]
     },
     "execution_count": 4,
     "metadata": {},
     "output_type": "execute_result"
    }
   ],
   "source": [
    "# Constraint: total purchase price of the units to be purchased must be no greater than the buyer's given budget\n",
    "solver.Add(\n",
    "    sum(SKU[i]['p'] * x[i] for i in range(number_of_SKUs)) <= B\n",
    ")"
   ]
  },
  {
   "cell_type": "markdown",
   "metadata": {},
   "source": [
    "# Objective Function\n",
    "* Buyer wants to maximize the total PC1 of the purchased units.\n",
    "* So, the objective function needs to take the total PC1 of the purchased items into account in its calculation.\n",
    "    - Maximize ( f[1] * x[1] + f[2] * x[2] + ... + f[N] * x[N] )\n",
    "    - equivalently, Maximize sum{ f[i] * x[i] | i = 1, 2, ..., N }"
   ]
  },
  {
   "cell_type": "code",
   "execution_count": 5,
   "metadata": {},
   "outputs": [],
   "source": [
    "# Maximise the total PC1 of the units to purchase\n",
    "solver.Maximize(\n",
    "    sum(SKU[i]['f'] * x[i] for i in range(number_of_SKUs))\n",
    ")"
   ]
  },
  {
   "cell_type": "markdown",
   "metadata": {},
   "source": [
    "# Solve\n",
    "### Linear Programming Model\n",
    "- Maximize\n",
    "    - sum{ f[i] x[i] | i = 1, 2, ..., N }\n",
    "- Subject to\n",
    "    - sum{ p[i] * x[i] | i = 1, 2, ..., N } ≤ B\n",
    "    - x[i] ≥ 0 & integer for i = 1, 2, ..., N"
   ]
  },
  {
   "cell_type": "code",
   "execution_count": 6,
   "metadata": {},
   "outputs": [
    {
     "name": "stdout",
     "output_type": "stream",
     "text": [
      "status = 0\n",
      "objective value = 60000.0\n",
      "total budget used = 300000.0\n",
      "number of SKUs purchased = 1\n",
      "number of units purchased = 6000.0\n"
     ]
    }
   ],
   "source": [
    "# Solve the linear program\n",
    "status = solver.Solve()\n",
    "\n",
    "# Check the results\n",
    "print('status =', status)  # 0=optimal, 1=feasible, 2=infeasible, 3=unbounded, 4=abnormal, 6=not solved\n",
    "print('objective value =', solver.Objective().Value())\n",
    "number_of_SKUs_purchased = 0\n",
    "number_of_units_purchased = 0\n",
    "total_budget_used = 0\n",
    "for i in range(number_of_SKUs):\n",
    "    if x[i].solution_value() > 0:\n",
    "        total_budget_used += SKU[i][\"p\"] * x[i].solution_value()\n",
    "        number_of_SKUs_purchased += 1\n",
    "        number_of_units_purchased += x[i].solution_value()\n",
    "print('total budget used =', total_budget_used)\n",
    "print('number of SKUs purchased =', number_of_SKUs_purchased)\n",
    "print('number of units purchased =', number_of_units_purchased)"
   ]
  },
  {
   "cell_type": "code",
   "execution_count": null,
   "metadata": {},
   "outputs": [],
   "source": []
  }
 ],
 "metadata": {
  "interpreter": {
   "hash": "d4d1e4263499bec80672ea0156c357c1ee493ec2b1c70f0acce89fc37c4a6abe"
  },
  "kernelspec": {
   "display_name": "Python 3",
   "language": "python",
   "name": "python3"
  },
  "language_info": {
   "codemirror_mode": {
    "name": "ipython",
    "version": 3
   },
   "file_extension": ".py",
   "mimetype": "text/x-python",
   "name": "python",
   "nbconvert_exporter": "python",
   "pygments_lexer": "ipython3",
   "version": "3.8.6"
  }
 },
 "nbformat": 4,
 "nbformat_minor": 2
}
