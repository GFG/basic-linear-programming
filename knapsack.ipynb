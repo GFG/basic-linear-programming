{
 "cells": [
  {
   "cell_type": "code",
   "execution_count": 1,
   "metadata": {},
   "outputs": [],
   "source": [
    "import time\n",
    "import random\n",
    "from ortools.linear_solver import pywraplp  # Google OR Tools - Linear Solver"
   ]
  },
  {
   "cell_type": "markdown",
   "metadata": {},
   "source": [
    "# Problem Data - Knapsack Problem\n",
    "* Lim wants to pack items as many as possible into his backpack. At the same time, Lim wants to maximise the total value of the items packed into it.\n",
    "* The backpack can carry items within its weight limit.\n",
    "    - max_weight: weight limit of the backpack\n",
    "* There are N distinct items, each of which has its own value and weight.\n",
    "    - value[i]: value of the i-th item\n",
    "    - weight[i]: volume of the i-th item"
   ]
  },
  {
   "cell_type": "code",
   "execution_count": 2,
   "metadata": {},
   "outputs": [],
   "source": [
    "# Items\n",
    "number_of_items = 50\n",
    "item = {}\n",
    "for i in range(number_of_items):  # Each item has its volume & weight\n",
    "    item[i] = {'value': random.randint(1, 5), 'weight': random.randint(10, 30)}\n",
    "\n",
    "# Backpack\n",
    "max_weight = 500  # Maximum volume of the backpack"
   ]
  },
  {
   "cell_type": "markdown",
   "metadata": {},
   "source": [
    "# Variables\n",
    "* Binary decision variable: x[i] = 1 if the i-th item is selected to be packed or 0 otherwise\n",
    "* We have N items, so we have N binary decision variables, x[1], x[2], ..., x[N].* "
   ]
  },
  {
   "cell_type": "code",
   "execution_count": 3,
   "metadata": {},
   "outputs": [],
   "source": [
    "solver = pywraplp.Solver.CreateSolver('SCIP')  # Solver object to use \"SCIP\" algorithm of the linear solver\n",
    "\n",
    "x = {}  # Binary decision variable, x[i] = 1 if i-th item is selected to be packed or x[i] = 0 otherwise\n",
    "for i in range(number_of_items):\n",
    "    x[i] = solver.BoolVar(f'x_{i}')  # This declares that x[i] is a binary variable which is either 0 or 1\n",
    "    #x[i] = solver.IntVar(0.0, 1.0, f'x_{i}')  # Equivalent to BoolVar"
   ]
  },
  {
   "cell_type": "markdown",
   "metadata": {},
   "source": [
    "# Constraints\n",
    "* The backpack's weight is limited. So, we need to make a decision which items to pack into the backpack.\n",
    "* The complication here is that items have different values & weights.\n",
    "* Anyway, we can model the constraint like this\n",
    "    - weight[1] * x[1] + weight[2] * x[2] + ... + weight[N] * x[N] ≤ max_weight\n",
    "    - sum{ weight[i] * x[i] | i = 1, 2, ..., N } ≤ max_weight, equivalently"
   ]
  },
  {
   "cell_type": "code",
   "execution_count": 4,
   "metadata": {},
   "outputs": [
    {
     "data": {
      "text/plain": [
       "<ortools.linear_solver.pywraplp.Constraint; proxy of <Swig Object of type 'operations_research::MPConstraint *' at 0x7fecc0644900> >"
      ]
     },
     "execution_count": 4,
     "metadata": {},
     "output_type": "execute_result"
    }
   ],
   "source": [
    "# Constraint: total weight of the items selected to be packed must be no greater than the backpack's weight limit\n",
    "solver.Add(\n",
    "    sum(item[i]['weight'] * x[i] for i in range(number_of_items)) <= max_weight\n",
    ")"
   ]
  },
  {
   "cell_type": "markdown",
   "metadata": {},
   "source": [
    "# Objective Function\n",
    "* Lim wants to maximize the total value of the items packed into the backpack.\n",
    "* So, the objective function needs to take the total value of the selected items into account in its calculation.\n",
    "    - Maximize ( value[1] * x[1] + value[2] * x[2] + ... + value[N] * x[N] )\n",
    "    - equivalently, Maximize sum{ value[i] * x[i] | x = 1, 2, ..., N }"
   ]
  },
  {
   "cell_type": "code",
   "execution_count": 5,
   "metadata": {},
   "outputs": [],
   "source": [
    "# Maximise the total value of the items selected to be packed\n",
    "solver.Maximize(\n",
    "    sum(item[i]['value'] * x[i] for i in range(number_of_items))\n",
    ")"
   ]
  },
  {
   "cell_type": "markdown",
   "metadata": {},
   "source": [
    "# Solve\n",
    "### Linear Programming Model\n",
    "- Maximize\n",
    "    - sum{ value[i] * x[i] | i = 1, 2, ..., N }\n",
    "- Subject to\n",
    "    - sum{ weight[i] * x[i] | i = 1, 2, ..., N } ≤ max_weight\n",
    "    - x[i] ∈ {0, 1} for i = 1, 2, ..., N"
   ]
  },
  {
   "cell_type": "code",
   "execution_count": 6,
   "metadata": {},
   "outputs": [
    {
     "name": "stdout",
     "output_type": "stream",
     "text": [
      "status = 0\n",
      "objective value = 90.0\n",
      "total items packed = 25\n",
      "total weight used = 494\n"
     ]
    }
   ],
   "source": [
    "# Solve the linear program\n",
    "status = solver.Solve()\n",
    "\n",
    "# Check the results\n",
    "print('status =', status)  # 0=optimal, 1=feasible, 2=infeasible, 3=unbounded, 4=abnormal, 6=not solved\n",
    "print('objective value =', solver.Objective().Value())\n",
    "number_of_items_packed = 0\n",
    "total_weight_used = 0\n",
    "for i in range(number_of_items):\n",
    "    if x[i].solution_value() == 1:\n",
    "        #print(f' item-{i} = {item[i][\"weight\"]}')\n",
    "        total_weight_used += item[i][\"weight\"]\n",
    "        number_of_items_packed += 1\n",
    "print('total items packed =', number_of_items_packed)\n",
    "print('total weight used =', total_weight_used)"
   ]
  },
  {
   "cell_type": "code",
   "execution_count": null,
   "metadata": {},
   "outputs": [],
   "source": []
  }
 ],
 "metadata": {
  "interpreter": {
   "hash": "d4d1e4263499bec80672ea0156c357c1ee493ec2b1c70f0acce89fc37c4a6abe"
  },
  "kernelspec": {
   "display_name": "Python 3",
   "language": "python",
   "name": "python3"
  },
  "language_info": {
   "codemirror_mode": {
    "name": "ipython",
    "version": 3
   },
   "file_extension": ".py",
   "mimetype": "text/x-python",
   "name": "python",
   "nbconvert_exporter": "python",
   "pygments_lexer": "ipython3",
   "version": "3.8.6"
  }
 },
 "nbformat": 4,
 "nbformat_minor": 2
}
