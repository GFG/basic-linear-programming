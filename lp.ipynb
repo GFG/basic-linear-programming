{
 "cells": [
  {
   "cell_type": "code",
   "execution_count": 2,
   "metadata": {},
   "outputs": [],
   "source": [
    "import time\n",
    "import random\n",
    "from ortools.linear_solver import pywraplp\n",
    "\n",
    "solver = pywraplp.Solver.CreateSolver('SCIP')  # Solver object"
   ]
  },
  {
   "cell_type": "markdown",
   "metadata": {},
   "source": [
    "# Problem Data"
   ]
  },
  {
   "cell_type": "code",
   "execution_count": 3,
   "metadata": {},
   "outputs": [],
   "source": [
    "# Items\n",
    "number_of_items = 50\n",
    "item = {}\n",
    "for i in range(number_of_items):\n",
    "    item[i] = {'weight': random.randint(1, 5), 'volume': random.randint(10, 30)}\n",
    "\n",
    "# Backpack\n",
    "backpack_volume = 500"
   ]
  },
  {
   "cell_type": "markdown",
   "metadata": {},
   "source": [
    "# Variables"
   ]
  },
  {
   "cell_type": "code",
   "execution_count": 4,
   "metadata": {},
   "outputs": [],
   "source": [
    "x = {}\n",
    "for i in range(number_of_items):\n",
    "    x[i] = solver.BoolVar(f'x_{i}')"
   ]
  },
  {
   "cell_type": "markdown",
   "metadata": {},
   "source": [
    "# Constraints"
   ]
  },
  {
   "cell_type": "code",
   "execution_count": 5,
   "metadata": {},
   "outputs": [
    {
     "data": {
      "text/plain": [
       "<ortools.linear_solver.pywraplp.Constraint; proxy of <Swig Object of type 'operations_research::MPConstraint *' at 0x7f18f8d71ae0> >"
      ]
     },
     "execution_count": 5,
     "metadata": {},
     "output_type": "execute_result"
    }
   ],
   "source": [
    "solver.Add(\n",
    "    sum(item[i]['volume'] * x[i] for i in range(number_of_items)) <= backpack_volume\n",
    ")"
   ]
  },
  {
   "cell_type": "markdown",
   "metadata": {},
   "source": [
    "# Objective Function"
   ]
  },
  {
   "cell_type": "code",
   "execution_count": 6,
   "metadata": {},
   "outputs": [],
   "source": [
    "solver.Maximize(\n",
    "    sum(item[i]['weight'] * x[i] for i in range(number_of_items))\n",
    ")"
   ]
  },
  {
   "cell_type": "markdown",
   "metadata": {},
   "source": [
    "# Solve"
   ]
  },
  {
   "cell_type": "code",
   "execution_count": 11,
   "metadata": {},
   "outputs": [
    {
     "name": "stdout",
     "output_type": "stream",
     "text": [
      "status = 0\n",
      "objective value = 115.0\n",
      "total items packed = 27\n",
      "total volume used = 500\n"
     ]
    }
   ],
   "source": [
    "status = solver.Solve()\n",
    "\n",
    "# Check the results\n",
    "print('status =', status)  # 0=optimal, 1=feasible, 2=infeasible, 3=unbounded, 4=abnormal, 6=not solved\n",
    "print('objective value =', solver.Objective().Value())\n",
    "number_of_items_packed = 0\n",
    "total_volume_used = 0\n",
    "for i in range(number_of_items):\n",
    "    if x[i].solution_value() == 1:\n",
    "        #print(f' item-{i} = {item[i][\"volume\"]}')\n",
    "        total_volume_used += item[i][\"volume\"]\n",
    "        number_of_items_packed += 1\n",
    "print('total items packed =', number_of_items_packed)\n",
    "print('total volume used =', total_volume_used)"
   ]
  },
  {
   "cell_type": "code",
   "execution_count": null,
   "metadata": {},
   "outputs": [],
   "source": []
  }
 ],
 "metadata": {
  "interpreter": {
   "hash": "d4d1e4263499bec80672ea0156c357c1ee493ec2b1c70f0acce89fc37c4a6abe"
  },
  "kernelspec": {
   "display_name": "Python 3.8.6 ('base')",
   "language": "python",
   "name": "python3"
  },
  "language_info": {
   "codemirror_mode": {
    "name": "ipython",
    "version": 3
   },
   "file_extension": ".py",
   "mimetype": "text/x-python",
   "name": "python",
   "nbconvert_exporter": "python",
   "pygments_lexer": "ipython3",
   "version": "3.8.6"
  },
  "orig_nbformat": 4
 },
 "nbformat": 4,
 "nbformat_minor": 2
}
