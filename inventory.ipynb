{
 "cells": [
  {
   "cell_type": "code",
   "execution_count": 44,
   "metadata": {},
   "outputs": [],
   "source": [
    "import time\n",
    "import random\n",
    "from ortools.linear_solver import pywraplp  # Google OR Tools - Linear Solver\n",
    "\n",
    "solver = pywraplp.Solver.CreateSolver('SCIP')  # Solver object to use \"SCIP\" algorithm of the linear solver "
   ]
  },
  {
   "cell_type": "markdown",
   "metadata": {},
   "source": [
    "# Problem Data\n",
    "* Lim wants to find the optimal intake quantity for SKU-A, which minimizes the total cost of inventory replenishment.\n",
    "* Information on SKU-A\n",
    "    - There are 4 units in the warehouse in the end of today.\n",
    "    - It is being sold at S$10.\n",
    "    - We have its demand forecast for the next 10 days.\n",
    "    - We're going to plan the intake of the next 10 days.\n",
    "* Information on SKU-A's supplier\n",
    "    - Minimum order quantity (MOQ): It only accepts orders with at least 10 units.\n",
    "    - Fixed delivery cost: Each order costs $20 for delivery."
   ]
  },
  {
   "cell_type": "code",
   "execution_count": 50,
   "metadata": {},
   "outputs": [],
   "source": [
    "# SKU\n",
    "stock_level = 4  # As of end of D+0\n",
    "selling_price = 10  # SGD\n",
    "number_of_days = 10  # N days, where N = 10 in this example\n",
    "demand = [3, 5, 3, 5, 3, 5, 3, 5, 3, 5]  # [D+1, D+2, ..., D+10]\n",
    "\n",
    "inventory_holding_cost = selling_price * 0.01  # Inventory holding cost per unit\n",
    "lost_sales_cost = selling_price  # Lost sales cost per unit\n",
    "\n",
    "# Supplier\n",
    "moq = 10  # Minimum order quantity\n",
    "delivery_cost = 1  # Fixed delivery cost"
   ]
  },
  {
   "cell_type": "markdown",
   "metadata": {},
   "source": [
    "# Variables\n",
    "* (Non-negative) binary decision variable: x[i] = 1 (if intake exists) or 0 (if no intake)\n",
    "    - We have N days, so we have N binary decision variables, x[1], x[2], ..., x[N].\n",
    "* (Non-negative) integer decision variable: intake[i] > 0 if intake exists or 0 otherwise\n",
    "    - If x[i] = 1, intake[i] > 0. Otherwise, intake[i] = 0\n",
    "* (Non-negative) integer decision variable: inv[i] > 0 if there are any remaining units in the end of the i-th day or 0 otherwise\n",
    "* (Non-negative) integer decision variable: lost[i] > 0 if there are any unmet demand on the i-th day or 0 otherwise\n",
    "    - At least one of inv[i] and lost[i] is zero."
   ]
  },
  {
   "cell_type": "code",
   "execution_count": 51,
   "metadata": {},
   "outputs": [],
   "source": [
    "x = {}  # Binary decision variable, x[i] = 1 if intake quantity in the beginning of the i-th day is positive or 0 otherwise\n",
    "intake = {}  # Integer decision variable, intake[i] = intake quantity in the beginning of the i-th day\n",
    "inv = {}  # Integer decision variable, inv[i] = inventory level (in quantity) in the end of the i-th day\n",
    "lost = {}  # Integer decision variable, lost[i] = lost sales quantity in the end of the i-th day\n",
    "for i in range(number_of_days):\n",
    "    x[i] = solver.BoolVar(f'x_{i}')\n",
    "    intake[i] = solver.IntVar(0, solver.infinity(), f'ord_{i}')\n",
    "    inv[i] = solver.IntVar(0, solver.infinity(), f'inv_{i}')\n",
    "    lost[i] = solver.IntVar(0, solver.infinity(), f'lost_{i}')"
   ]
  },
  {
   "cell_type": "markdown",
   "metadata": {},
   "source": [
    "# Constraints\n",
    "* Intake quantity on a day can be positive only if an intake happens on the day.\n",
    "* Intake quantity must be no smaller than the minimum order quantity.\n",
    "    - MOQ * x[i] ≤ intake[i] ≤ 1,000,000 * x[i] for i = 1, 2, ..., N\n",
    "    - If x[i] = 1\n",
    "        - MOQ ≤ intake[i] ≤ 1,000,000\n",
    "        - Hence, intake[i] can be any positive integer value no smaller than MOQ\n",
    "    - If x[i] = 0\n",
    "        - 0 ≤ intake[i] ≤ 0\n",
    "        - Hence, intake[i] = 0\n",
    "* Inventory Dynamics: calculation of today's ending inventory level is depending on yesterday's ending inventory level and today's intake & demand.\n",
    "    - inv[i-1] + intake[i] - d[i] + lost[i] = inv[i] for i = 1, 2, ..., N\n",
    "        - inv[0] = stock_level (= 4)\n",
    "    - lost[i] ≥ 0 when demand is greater than (previous day's inventory + intake today) because inv[i] ≥ 0"
   ]
  },
  {
   "cell_type": "code",
   "execution_count": 52,
   "metadata": {},
   "outputs": [],
   "source": [
    "# Constraint (1): intake quantity can be positive only when there is an intake\n",
    "for i in range(number_of_days):\n",
    "    solver.Add(\n",
    "        intake[i] <= 1000000 * x[i]\n",
    "    )\n",
    "\n",
    "# Constraint (2): minimim order quantity (MOQ)\n",
    "for i in range(number_of_days):\n",
    "    solver.Add(\n",
    "        intake[i] >= moq * x[i]\n",
    "    )\n",
    "\n",
    "# Constraint (3): inventory dynamics\n",
    "for i in range(number_of_days):\n",
    "    if i == 0:\n",
    "        solver.Add(\n",
    "            stock_level + intake[i] - demand[i] + lost[i] == inv[i]\n",
    "        )\n",
    "    else:\n",
    "        solver.Add(\n",
    "            inv[i-1] + intake[i] - demand[i] + lost[i] == inv[i]\n",
    "        )"
   ]
  },
  {
   "cell_type": "markdown",
   "metadata": {},
   "source": [
    "# Objective Function\n",
    "* Lim wants to minimize the total cost of inventory replenishment.\n",
    "* So, the objective function needs to take the delivery cost, inventory holding cost & lost sales cost in its calculation.\n",
    "    - Minimize sum{ delivery_cost * x[i] + holding_cost * inv[i] + lost_sales_cost * lost[i] | i = 1, 2, ..., N }"
   ]
  },
  {
   "cell_type": "code",
   "execution_count": 53,
   "metadata": {},
   "outputs": [],
   "source": [
    "# Minimize the total cost of inventory\n",
    "solver.Minimize(\n",
    "    sum(\n",
    "        (delivery_cost * x[i]) + (inventory_holding_cost * inv[i]) + (selling_price * lost[i])\n",
    "        for i in range(number_of_days)\n",
    "    )\n",
    ")"
   ]
  },
  {
   "cell_type": "markdown",
   "metadata": {},
   "source": [
    "# Solve\n",
    "### Linear Programming Model\n",
    "- Minimize\n",
    "    - Minimize sum{ delivery_cost * x[i] + holding_cost * inv[i] + lost_sales_cost * lost[i] | i = 1, 2, ..., N }\n",
    "- Subject to\n",
    "    - (1) intake[i] ≤ 1,000,000 * x[i] for i = 1, 2, ..., N\n",
    "    - (2) MOQ * x[i] ≤ intake[i] for i = 1, 2, ..., N\n",
    "    - (3) inv[i-1] + intake[i] - demand[i] + lost[i] = inv[i] for i = 1, 2, ..., N\n",
    "    - x[i] ∈ {0, 1} for i = 1, 2, ..., N\n",
    "    - intake[i] ≥ 0 & integer for i = 1, 2, ..., N\n",
    "    - inv[i] ≥ 0 & integer for i = 1, 2, ..., N\n",
    "    - lost[i] ≥ 0 & integer for i = 1, 2, ..., N"
   ]
  },
  {
   "cell_type": "code",
   "execution_count": 58,
   "metadata": {},
   "outputs": [
    {
     "name": "stdout",
     "output_type": "stream",
     "text": [
      "status = 0\n",
      "objective value = 6.800000000000001\n",
      "\n",
      "initial stock level = 4\n",
      "day\t1\t2\t3\t4\t5\t6\t7\t8\t9\t10\n",
      "intake\t0\t12\t0\t0\t11\t0\t0\t13\t0\t0\n",
      "demand\t3\t5\t3\t5\t3\t5\t3\t5\t3\t5\n",
      "inv\t1\t8\t5\t0\t8\t3\t0\t8\t5\t0\n",
      "lost\t0\t0\t0\t0\t0\t0\t0\t0\t0\t0\n",
      "\n",
      "total intake quantity = 36\n",
      "total inventory quantity = 24\n",
      "total lost sales quantity = 0\n"
     ]
    }
   ],
   "source": [
    "# Solve the linear program\n",
    "status = solver.Solve()\n",
    "\n",
    "# Check the results\n",
    "print('status =', status)  # 0=optimal, 1=feasible, 2=infeasible, 3=unbounded, 4=abnormal, 6=not solved\n",
    "print(f'objective value = {solver.Objective().Value()}\\n')\n",
    "\n",
    "# Print figures in a table form\n",
    "print(f'initial stock level = {stock_level}')\n",
    "val = 'day'\n",
    "for i in range(number_of_days):\n",
    "    val += '\\t' + str(i+1)\n",
    "print(val)\n",
    "val = 'intake'\n",
    "for i in range(number_of_days):\n",
    "    val += '\\t' + str(int(intake[i].solution_value()))\n",
    "print(val)\n",
    "val = 'demand'\n",
    "for i in range(number_of_days):\n",
    "    val += '\\t' + str(demand[i])\n",
    "print(val)\n",
    "val = 'inv'\n",
    "for i in range(number_of_days):\n",
    "    val += '\\t' + str(int(inv[i].solution_value()))\n",
    "print(val)\n",
    "val = 'lost'\n",
    "for i in range(number_of_days):\n",
    "    val += '\\t' + str(int(lost[i].solution_value()))\n",
    "print(val)\n",
    "\n",
    "# Total figures\n",
    "total_intake_qty = 0\n",
    "total_inventory = 0\n",
    "total_lost_sales_qty = 0\n",
    "for i in range(number_of_days):\n",
    "    if x[i].solution_value() == 1:\n",
    "        total_intake_qty += intake[i].solution_value()\n",
    "        total_inventory += inv[i].solution_value()\n",
    "        total_lost_sales_qty += lost[i].solution_value()\n",
    "print('\\ntotal intake quantity =', int(total_intake_qty))\n",
    "print('total inventory quantity =', int(total_inventory))\n",
    "print('total lost sales quantity =', int(total_lost_sales_qty))"
   ]
  },
  {
   "cell_type": "code",
   "execution_count": null,
   "metadata": {},
   "outputs": [],
   "source": []
  }
 ],
 "metadata": {
  "interpreter": {
   "hash": "d4d1e4263499bec80672ea0156c357c1ee493ec2b1c70f0acce89fc37c4a6abe"
  },
  "kernelspec": {
   "display_name": "Python 3",
   "language": "python",
   "name": "python3"
  },
  "language_info": {
   "codemirror_mode": {
    "name": "ipython",
    "version": 3
   },
   "file_extension": ".py",
   "mimetype": "text/x-python",
   "name": "python",
   "nbconvert_exporter": "python",
   "pygments_lexer": "ipython3",
   "version": "3.8.6"
  }
 },
 "nbformat": 4,
 "nbformat_minor": 2
}
