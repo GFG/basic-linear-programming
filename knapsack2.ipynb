{
 "cells": [
  {
   "cell_type": "code",
   "execution_count": 2,
   "metadata": {},
   "outputs": [],
   "source": [
    "import time\n",
    "import random\n",
    "from ortools.linear_solver import pywraplp  # Google OR Tools - Linear Solver\n",
    "\n",
    "solver = pywraplp.Solver.CreateSolver('SCIP')  # Solver object to use \"SCIP\" algorithm of the linear solver "
   ]
  },
  {
   "cell_type": "markdown",
   "metadata": {},
   "source": [
    "# Problem Data\n",
    "* Lim wants to pack items as many as possible into his backpack. At the same time, xe wants to maximise the total value of the items packed into it.\n",
    "* The backpack can carry items within its area limit.\n",
    "    - max_area: area of the backpack\n",
    "* There are N distinct items, each of which has its own weight (or value) and dimension (width & depth).\n",
    "    - value[i]: value of the i-th item\n",
    "    - width[i]: width of the i-th item\n",
    "    - depth[i]: depth of the i-th item\n",
    "    - area[i] = width[i] * depth[i]: area of the i-th item\n",
    "* For now, let's forget about the tetris-like problem here as it's over-complicated at this learning stage."
   ]
  },
  {
   "cell_type": "code",
   "execution_count": 3,
   "metadata": {},
   "outputs": [],
   "source": [
    "# Items\n",
    "number_of_items = 50\n",
    "item = {}\n",
    "for i in range(number_of_items):  # Each item has its value & area (= width * depth)\n",
    "    item[i] = {'value': random.randint(1, 5), 'width': random.randint(10, 30), 'depth': random.randint(10, 30)}\n",
    "\n",
    "# Backpack\n",
    "max_area = 5000  # Maximum area of the backpack"
   ]
  },
  {
   "cell_type": "markdown",
   "metadata": {},
   "source": [
    "# Variables\n",
    "* Binary decision variable: x[i] = 1 if the i-th item is selected to be packed or 0 otherwise\n",
    "* We have N items, so we have N binary decision variables, x[1], x[2], ..., x[N]."
   ]
  },
  {
   "cell_type": "code",
   "execution_count": 4,
   "metadata": {},
   "outputs": [],
   "source": [
    "x = {}  # Binary decision variable, x[i] = 1 if i-th item is selected to be packed or x[i] = 0 otherwise\n",
    "for i in range(number_of_items):\n",
    "    x[i] = solver.BoolVar(f'x_{i}')"
   ]
  },
  {
   "cell_type": "markdown",
   "metadata": {},
   "source": [
    "# Constraints\n",
    "* The backpack's area is limited. So, we need to make a decision which items to pack into the backpack.\n",
    "* The complication here is that items have different values & dimensions.\n",
    "* Anyway, we can model the constraint like this\n",
    "    - area[1] * x[1] + area[2] * x[2] + ... + area[N] * x[N] <= max_area\n",
    "    - sum{ area[i] * x[i] | i = 1, 2, ..., N } <= max_area, equivalently"
   ]
  },
  {
   "cell_type": "code",
   "execution_count": 5,
   "metadata": {},
   "outputs": [
    {
     "data": {
      "text/plain": [
       "<ortools.linear_solver.pywraplp.Constraint; proxy of <Swig Object of type 'operations_research::MPConstraint *' at 0x7f6b381d6b10> >"
      ]
     },
     "execution_count": 5,
     "metadata": {},
     "output_type": "execute_result"
    }
   ],
   "source": [
    "# Constraint: total area of the items to be packed must be no greater than the backpack's area\n",
    "solver.Add(\n",
    "    sum(item[i]['width'] * item[i]['depth'] * x[i] for i in range(number_of_items)) <= max_area\n",
    ")"
   ]
  },
  {
   "cell_type": "markdown",
   "metadata": {},
   "source": [
    "# Objective Function\n",
    "* Lim wants to maximize the total value of the items packed into the backpack.\n",
    "* So, the objective function needs to take the total value of the selected items into account in its calculation.\n",
    "    - Maximize ( value[1] * x[1] + value[2] * x[2] + ... + value[N] * x[N] )\n",
    "    - equivalently, Maximize sum{ value[i] * x[i] | i = 1, 2, ..., N }"
   ]
  },
  {
   "cell_type": "code",
   "execution_count": 6,
   "metadata": {},
   "outputs": [],
   "source": [
    "# Maximise the total weight of the items to be packed\n",
    "solver.Maximize(\n",
    "    sum(item[i]['value'] * x[i] for i in range(number_of_items))\n",
    ")"
   ]
  },
  {
   "cell_type": "markdown",
   "metadata": {},
   "source": [
    "# Solve\n",
    "### Linear Programming Model\n",
    "- Maximize\n",
    "    - sum{ value[i] x[i] | i = 1, 2, ..., N }\n",
    "- Subject to\n",
    "    - sum{ width[i] * depth[i] * x[i] | i = 1, 2, ..., N } ≤ max_area\n",
    "    - x[i] ∈ {0, 1} for i = 1, 2, ..., N"
   ]
  },
  {
   "cell_type": "code",
   "execution_count": 8,
   "metadata": {},
   "outputs": [
    {
     "name": "stdout",
     "output_type": "stream",
     "text": [
      "status = 0\n",
      "objective value = 71.0\n",
      "total items packed = 17\n",
      "total area used = 4865\n"
     ]
    }
   ],
   "source": [
    "# Solve the linear program\n",
    "status = solver.Solve()\n",
    "\n",
    "# Check the results\n",
    "print('status =', status)  # 0=optimal, 1=feasible, 2=infeasible, 3=unbounded, 4=abnormal, 6=not solved\n",
    "print('objective value =', solver.Objective().Value())\n",
    "number_of_items_packed = 0\n",
    "total_area_used = 0\n",
    "for i in range(number_of_items):\n",
    "    if x[i].solution_value() == 1:\n",
    "        total_area_used += item[i][\"width\"] * item[i][\"depth\"]\n",
    "        number_of_items_packed += 1\n",
    "print('total items packed =', number_of_items_packed)\n",
    "print('total area used =', total_area_used)"
   ]
  },
  {
   "cell_type": "code",
   "execution_count": null,
   "metadata": {},
   "outputs": [],
   "source": []
  }
 ],
 "metadata": {
  "interpreter": {
   "hash": "d4d1e4263499bec80672ea0156c357c1ee493ec2b1c70f0acce89fc37c4a6abe"
  },
  "kernelspec": {
   "display_name": "Python 3",
   "language": "python",
   "name": "python3"
  },
  "language_info": {
   "codemirror_mode": {
    "name": "ipython",
    "version": 3
   },
   "file_extension": ".py",
   "mimetype": "text/x-python",
   "name": "python",
   "nbconvert_exporter": "python",
   "pygments_lexer": "ipython3",
   "version": "3.8.6"
  }
 },
 "nbformat": 4,
 "nbformat_minor": 2
}
